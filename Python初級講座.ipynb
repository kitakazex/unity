{
  "nbformat": 4,
  "nbformat_minor": 0,
  "metadata": {
    "colab": {
      "name": "Python初級講座",
      "provenance": [],
      "toc_visible": true,
      "authorship_tag": "ABX9TyOy8/GwIZB4wJBqirHWyEE4",
      "include_colab_link": true
    },
    "kernelspec": {
      "name": "python3",
      "display_name": "Python 3"
    }
  },
  "cells": [
    {
      "cell_type": "markdown",
      "metadata": {
        "id": "view-in-github",
        "colab_type": "text"
      },
      "source": [
        "<a href=\"https://colab.research.google.com/github/kitakazex/unity/blob/main/Python%E5%88%9D%E7%B4%9A%E8%AC%9B%E5%BA%A7.ipynb\" target=\"_parent\"><img src=\"https://colab.research.google.com/assets/colab-badge.svg\" alt=\"Open In Colab\"/></a>"
      ]
    },
    {
      "cell_type": "markdown",
      "metadata": {
        "id": "WKWYDqo01Nbe"
      },
      "source": [
        "# 数値"
      ]
    },
    {
      "cell_type": "markdown",
      "metadata": {
        "id": "QxlKc4et1UCN"
      },
      "source": [
        "### **加算　＋**\r\n",
        "構文：[足される数値]**+**[足す数値]\r\n",
        "\r\n",
        "例文：a+b"
      ]
    },
    {
      "cell_type": "code",
      "metadata": {
        "colab": {
          "base_uri": "https://localhost:8080/"
        },
        "id": "51Yg14LU1YUe",
        "outputId": "fa8236d0-1c9b-4c10-f4d1-4936cd46f227"
      },
      "source": [
        "a=7\r\n",
        "b=5\r\n",
        "print(a+b)# （a+b）を「表示しなさい」という命令です。\r\n",
        "a='ABC'\r\n",
        "b='DEF'\r\n",
        "print(a+b)# （a+b）を「表示しなさい」という命令です。\r\n",
        "          #　文字列の場合も実行可能です。\r\n"
      ],
      "execution_count": null,
      "outputs": [
        {
          "output_type": "stream",
          "text": [
            "12\n",
            "ABCDEF\n"
          ],
          "name": "stdout"
        }
      ]
    },
    {
      "cell_type": "markdown",
      "metadata": {
        "id": "-45RuJNz2QVE"
      },
      "source": [
        "### **減算　-**\r\n",
        "構文：[引かれる数値]**-**[引く数値]\r\n",
        "\r\n",
        "例文：a-b"
      ]
    },
    {
      "cell_type": "code",
      "metadata": {
        "id": "mQKtR1AS2TMM",
        "colab": {
          "base_uri": "https://localhost:8080/"
        },
        "outputId": "8c57ee48-d089-4176-d600-967285af95a0"
      },
      "source": [
        "a=7\r\n",
        "b=5\r\n",
        "print(a-b)# （a-b）を「表示しなさい」という命令です。\r\n"
      ],
      "execution_count": null,
      "outputs": [
        {
          "output_type": "stream",
          "text": [
            "2\n"
          ],
          "name": "stdout"
        }
      ]
    },
    {
      "cell_type": "markdown",
      "metadata": {
        "id": "3sp8ZRrx3COU"
      },
      "source": [
        "### **乗算　***\r\n",
        "構文：[掛けられる数値]* **太字**[掛ける数値]\r\n",
        "\r\n",
        "例文：a*b"
      ]
    },
    {
      "cell_type": "code",
      "metadata": {
        "id": "RCrzAuD33COU",
        "colab": {
          "base_uri": "https://localhost:8080/"
        },
        "outputId": "de1bcbb0-7090-4548-eab0-0daae030f782"
      },
      "source": [
        "a=7\r\n",
        "b=5\r\n",
        "print(a*b)# （a*b）を「表示しなさい」という命令です。\r\n",
        "a='ABC'\r\n",
        "\r\n",
        "print(a*3)#実は文字列に数値を掛け算することができます。\r\n",
        "        #結果：ABCABCABC　"
      ],
      "execution_count": null,
      "outputs": [
        {
          "output_type": "stream",
          "text": [
            "35\n",
            "ABCABCABC\n"
          ],
          "name": "stdout"
        }
      ]
    },
    {
      "cell_type": "markdown",
      "metadata": {
        "id": "AS3-sMdN3Ell"
      },
      "source": [
        "### **除算　/**\r\n",
        "構文：[割られる数値]**/**[割る数値]\r\n",
        "\r\n",
        "例文：a/b"
      ]
    },
    {
      "cell_type": "code",
      "metadata": {
        "id": "Wo0eYLn-3Ell",
        "colab": {
          "base_uri": "https://localhost:8080/"
        },
        "outputId": "23ba1cff-77cc-4dbc-c702-ef7b031b9079"
      },
      "source": [
        "a=7\r\n",
        "b=5\r\n",
        "print(a/b)# （a/b）を「表示しなさい」という命令です。\r\n"
      ],
      "execution_count": null,
      "outputs": [
        {
          "output_type": "stream",
          "text": [
            "1.4\n"
          ],
          "name": "stdout"
        }
      ]
    },
    {
      "cell_type": "markdown",
      "metadata": {
        "id": "F3fjdSwb3E9R"
      },
      "source": [
        "### **剰余　%** 割り算の「余り」を求めます\r\n",
        "構文：[割られる数値]**%**[割る数値]\r\n",
        "\r\n",
        "例文：a%b\r\n",
        "\r\n"
      ]
    },
    {
      "cell_type": "code",
      "metadata": {
        "id": "EoaHYQnS3E9S"
      },
      "source": [
        "a=7\r\n",
        "b=5\r\n",
        "print(a % b)# （a%b）を「表示しなさい」という命令です。\r\n",
        "a='ABC'\r\n",
        "b='DEF'\r\n",
        "#print(a % b)# （a%b）を「表示しなさい」という命令です。\r\n",
        "          #　文字列の場合はエラーになります"
      ],
      "execution_count": null,
      "outputs": []
    },
    {
      "cell_type": "markdown",
      "metadata": {
        "id": "-YezxqNn7SoY"
      },
      "source": [
        "### **切り捨て除算　//** 割り算の結果から小数点以下を切り捨てます\r\n",
        "構文：[割られる数値]**//**[割る数値]\r\n",
        "\r\n",
        "例文：a//b\r\n",
        "\r\n"
      ]
    },
    {
      "cell_type": "code",
      "metadata": {
        "id": "VO9OSuKA7Soa"
      },
      "source": [
        "a=7\r\n",
        "b=5\r\n",
        "print(a//b)# （a//b）を「表示しなさい」という命令です。\r\n",
        "a='ABC'\r\n",
        "b='DEF'\r\n",
        "#print(a//b)# （a//b）を「表示しなさい」という命令です。\r\n",
        "          #　文字列の場合はエラーになります"
      ],
      "execution_count": null,
      "outputs": []
    },
    {
      "cell_type": "markdown",
      "metadata": {
        "id": "mJ4FGw0d9fIJ"
      },
      "source": [
        "### **指数　＊＊** べき乗の結果を求めます\r\n",
        "構文：[基数]**[指数]\r\n",
        "\r\n",
        "例文：a**b\r\n",
        "\r\n"
      ]
    },
    {
      "cell_type": "code",
      "metadata": {
        "id": "dd74Afgj9fIS"
      },
      "source": [
        "a=7\r\n",
        "b=5\r\n",
        "print(a**b)# （a**b）を「表示しなさい」という命令です。\r\n",
        "a='ABC'\r\n",
        "b='DEF'\r\n",
        "#print(a**b)# （a**b）を「表示しなさい」という命令です。\r\n",
        "          #　文字列の場合はエラーになります"
      ],
      "execution_count": null,
      "outputs": []
    },
    {
      "cell_type": "markdown",
      "metadata": {
        "id": "N66mEen6-DaJ"
      },
      "source": [
        "### **商と余り　divmod** 割り算の商と余りを求めます\r\n",
        "構文：**divmod**([割られる数値]**,**[割る数値])→([商],[余り])\r\n",
        "\r\n",
        "例文：divmod(a,b)\r\n",
        "\r\n"
      ]
    },
    {
      "cell_type": "code",
      "metadata": {
        "colab": {
          "base_uri": "https://localhost:8080/"
        },
        "id": "S9FOT-2q-DaT",
        "outputId": "82793681-8a67-48ee-dc51-b1e7a43b2b5f"
      },
      "source": [
        "a=7\r\n",
        "b=5\r\n",
        "print(divmod(a,b))# (divmod(a,b))を「表示しなさい」という命令です。\r\n",
        "a='ABC'\r\n",
        "b='DEF'\r\n",
        "#print(divmod(a,b))# (divmod(a,b))を「表示しなさい」という命令です。\r\n",
        "          #　文字列の場合はエラーになります"
      ],
      "execution_count": null,
      "outputs": [
        {
          "output_type": "stream",
          "text": [
            "(1, 2)\n"
          ],
          "name": "stdout"
        }
      ]
    },
    {
      "cell_type": "markdown",
      "metadata": {
        "id": "d568FcoGku3M"
      },
      "source": [
        "# 文字列"
      ]
    },
    {
      "cell_type": "markdown",
      "metadata": {
        "id": "XgOF7wELkymc"
      },
      "source": [
        "### **インデックス指定**"
      ]
    },
    {
      "cell_type": "code",
      "metadata": {
        "colab": {
          "base_uri": "https://localhost:8080/"
        },
        "id": "WG1-ZZDik4tE",
        "outputId": "8f504c2c-6e1a-4a4a-e7c2-7219a3128ba9"
      },
      "source": [
        "word='Python'\r\n",
        "print(word[0])\r\n",
        "print(word[5:])"
      ],
      "execution_count": null,
      "outputs": [
        {
          "output_type": "stream",
          "text": [
            "P\n",
            "n\n"
          ],
          "name": "stdout"
        }
      ]
    },
    {
      "cell_type": "markdown",
      "metadata": {
        "id": "nt6-9gFc_AQY"
      },
      "source": [
        "# 制御構造"
      ]
    },
    {
      "cell_type": "markdown",
      "metadata": {
        "id": "HbIAP77P2Fh9"
      },
      "source": [
        "### **if**"
      ]
    },
    {
      "cell_type": "code",
      "metadata": {
        "colab": {
          "base_uri": "https://localhost:8080/"
        },
        "id": "7ky5BuNs2Jij",
        "outputId": "3aecd1b3-54d3-44b8-c30e-04954a75aa02"
      },
      "source": [
        "a='Python'\r\n",
        "if a[1]=='A':\r\n",
        "    print('AAA')\r\n",
        "elif a[2]=='BBB':\r\n",
        "    print('BBB')\r\n",
        "else:\r\n",
        "    print('ZZZ')\r\n"
      ],
      "execution_count": null,
      "outputs": [
        {
          "output_type": "stream",
          "text": [
            "ZZZ\n"
          ],
          "name": "stdout"
        }
      ]
    },
    {
      "cell_type": "markdown",
      "metadata": {
        "id": "a4U7HHdGCUvC"
      },
      "source": [
        "### **while**"
      ]
    },
    {
      "cell_type": "code",
      "metadata": {
        "colab": {
          "base_uri": "https://localhost:8080/"
        },
        "id": "WNJI2EWwCXUx",
        "outputId": "2a9e65f3-dc90-46a3-de94-7d4f05ac8d40"
      },
      "source": [
        "\r\n",
        "a,b=10,3\r\n",
        "while a>b :\r\n",
        "  a-=b\r\n",
        "  print(a)\r\n",
        "\r\n"
      ],
      "execution_count": null,
      "outputs": [
        {
          "output_type": "stream",
          "text": [
            "7\n",
            "4\n",
            "1\n"
          ],
          "name": "stdout"
        }
      ]
    },
    {
      "cell_type": "markdown",
      "metadata": {
        "id": "n97HOJyo_EzY"
      },
      "source": [
        "### **for**"
      ]
    },
    {
      "cell_type": "markdown",
      "metadata": {
        "id": "ubS5QipZA_Nv"
      },
      "source": [
        "例.1リスト"
      ]
    },
    {
      "cell_type": "code",
      "metadata": {
        "colab": {
          "base_uri": "https://localhost:8080/"
        },
        "id": "PFLRddGo_Hif",
        "outputId": "473ce144-d617-406f-a3aa-c32d06fdc36d"
      },
      "source": [
        "a=[1,2,3,4,5]\r\n",
        "for n in a:\r\n",
        "  print(n,n**2)"
      ],
      "execution_count": null,
      "outputs": [
        {
          "output_type": "stream",
          "text": [
            "1 1\n",
            "2 4\n",
            "3 9\n",
            "4 16\n",
            "5 25\n"
          ],
          "name": "stdout"
        }
      ]
    },
    {
      "cell_type": "markdown",
      "metadata": {
        "id": "6j2c31CLBEoG"
      },
      "source": [
        "例2.文字列"
      ]
    },
    {
      "cell_type": "code",
      "metadata": {
        "colab": {
          "base_uri": "https://localhost:8080/"
        },
        "id": "RPVSkufiBHJc",
        "outputId": "cc41cdfd-0b9d-428d-fced-0c9b85c81e79"
      },
      "source": [
        "b='Python'\r\n",
        "for s in b:\r\n",
        "  print(s,s*2)"
      ],
      "execution_count": null,
      "outputs": [
        {
          "output_type": "stream",
          "text": [
            "P PP\n",
            "y yy\n",
            "t tt\n",
            "h hh\n",
            "o oo\n",
            "n nn\n"
          ],
          "name": "stdout"
        }
      ]
    },
    {
      "cell_type": "markdown",
      "metadata": {
        "id": "XmIlv7QgGLxS"
      },
      "source": [
        "### **range()**"
      ]
    },
    {
      "cell_type": "markdown",
      "metadata": {
        "id": "uxmkjODCGPLi"
      },
      "source": [
        "例1.基本形"
      ]
    },
    {
      "cell_type": "code",
      "metadata": {
        "colab": {
          "base_uri": "https://localhost:8080/"
        },
        "id": "6my7MXYnGWrA",
        "outputId": "ee04f045-ecbb-49a7-80d9-b7214d77ea83"
      },
      "source": [
        "for i in range(5):\r\n",
        "  print(i)\r\n"
      ],
      "execution_count": null,
      "outputs": [
        {
          "output_type": "stream",
          "text": [
            "0\n",
            "1\n",
            "2\n",
            "3\n",
            "4\n"
          ],
          "name": "stdout"
        }
      ]
    },
    {
      "cell_type": "markdown",
      "metadata": {
        "id": "JYVg5Ii2wrli"
      },
      "source": [
        "例2.範囲指定"
      ]
    },
    {
      "cell_type": "code",
      "metadata": {
        "colab": {
          "base_uri": "https://localhost:8080/"
        },
        "id": "j3Szh-KAwxuL",
        "outputId": "20246ba3-e455-4faa-f0b3-012e23e87b79"
      },
      "source": [
        "for i in range(5,10):\r\n",
        "  print(i)"
      ],
      "execution_count": null,
      "outputs": [
        {
          "output_type": "stream",
          "text": [
            "5\n",
            "6\n",
            "7\n",
            "8\n",
            "9\n"
          ],
          "name": "stdout"
        }
      ]
    },
    {
      "cell_type": "markdown",
      "metadata": {
        "id": "SikNSo_Vw9Bb"
      },
      "source": [
        "例3.範囲と増分を指定"
      ]
    },
    {
      "cell_type": "code",
      "metadata": {
        "colab": {
          "base_uri": "https://localhost:8080/"
        },
        "id": "_3OBxookxF0h",
        "outputId": "27865ce8-bc80-4d20-de0d-ddee76db9f9f"
      },
      "source": [
        "for i in range(2,15,4):\r\n",
        "  print(i)"
      ],
      "execution_count": null,
      "outputs": [
        {
          "output_type": "stream",
          "text": [
            "2\n",
            "6\n",
            "10\n",
            "14\n"
          ],
          "name": "stdout"
        }
      ]
    },
    {
      "cell_type": "markdown",
      "metadata": {
        "id": "z-Kzxg9UAnqr"
      },
      "source": [
        "### **def**"
      ]
    },
    {
      "cell_type": "code",
      "metadata": {
        "colab": {
          "base_uri": "https://localhost:8080/"
        },
        "id": "WvQb6r91AqvT",
        "outputId": "fdfa26b1-12ff-4896-cb27-0a2a4a4efe5b"
      },
      "source": [
        "def fib(n):\r\n",
        "  \"\"\"nまでのフィボナッチ級数\r\n",
        "  を表示する\"\"\"\r\n",
        "  a,b=0,1\r\n",
        "  while a< n:\r\n",
        "    print(a,end=' ')\r\n",
        "    a,b=b,a+b\r\n",
        "  \r\n",
        "fib(1000)"
      ],
      "execution_count": null,
      "outputs": [
        {
          "output_type": "stream",
          "text": [
            "0 1 1 2 3 5 8 13 21 34 55 89 144 233 377 610 987 "
          ],
          "name": "stdout"
        }
      ]
    },
    {
      "cell_type": "markdown",
      "metadata": {
        "id": "vMIoLMbSk-FA"
      },
      "source": [
        "## リスト型 [ ]で表します\r\n"
      ]
    },
    {
      "cell_type": "markdown",
      "metadata": {
        "id": "-SqQcpdhlmZb"
      },
      "source": [
        "### **削除　del_ （_は空白文字です）**\r\n",
        "\r\n",
        "構文：del [対象のリストの名前].[削除したい要素の番号(インデックス)] \r\n",
        "\r\n",
        "例文：del a.[0]（1番目の要素を削除します）"
      ]
    },
    {
      "cell_type": "code",
      "metadata": {
        "id": "1iaWaNiWlwTj",
        "colab": {
          "base_uri": "https://localhost:8080/"
        },
        "outputId": "6fa35106-ead2-4ad9-f30c-27bfbd66e409"
      },
      "source": [
        "a=[1,2,3,4,5]#数値データ\r\n",
        "b=['A','B','C']#文字列データ\r\n",
        "del a[0]\r\n",
        "del b[0]\r\n",
        "print(a)#print(a)は「aを表示してください」という命令文です\r\n",
        "print(b)#print(b))は「bを表示してください」という命令文です\r\n"
      ],
      "execution_count": null,
      "outputs": [
        {
          "output_type": "stream",
          "text": [
            "[2, 3, 4, 5]\n",
            "['B', 'C']\n",
            "[5, 4, 3, 2]\n"
          ],
          "name": "stdout"
        }
      ]
    },
    {
      "cell_type": "markdown",
      "metadata": {
        "id": "t9wf1HT-n9RZ"
      },
      "source": [
        "### **追加①　.append()**\r\n",
        "\r\n",
        "構文：[リスト]**.append**( [要素] )\r\n",
        "\r\n",
        " 例文：a.append(6)\r\n"
      ]
    },
    {
      "cell_type": "code",
      "metadata": {
        "colab": {
          "base_uri": "https://localhost:8080/"
        },
        "id": "-t1miH84oB6h",
        "outputId": "4a34e514-42b6-423f-c8db-b6ee914d03b8"
      },
      "source": [
        "a=[2,3,4,5]#数値データ\r\n",
        "a.append(6)#6を追加\r\n",
        "print(a)\r\n"
      ],
      "execution_count": null,
      "outputs": [
        {
          "output_type": "stream",
          "text": [
            "[2, 3, 4, 5, 6]\n"
          ],
          "name": "stdout"
        }
      ]
    },
    {
      "cell_type": "markdown",
      "metadata": {
        "id": "TKUYECnQwxjN"
      },
      "source": [
        "### **追加②　.extend()**\r\n",
        "\r\n",
        "構文：[リスト]**.extend(** [要素] **)**\r\n",
        "\r\n",
        " 例文：a.extend(b)\r\n"
      ]
    },
    {
      "cell_type": "code",
      "metadata": {
        "colab": {
          "base_uri": "https://localhost:8080/"
        },
        "id": "-y33GyhGwxjf",
        "outputId": "0d97cf55-336e-4b12-f869-26f82f8fa497"
      },
      "source": [
        "a=[2,3,4,5,6]#数値データ\r\n",
        "b=['B','C']#文字列データ\r\n",
        "a.extend(b)#aにbを追加\r\n",
        "print(a)"
      ],
      "execution_count": null,
      "outputs": [
        {
          "output_type": "stream",
          "text": [
            "[2, 3, 4, 5, 'B', 'C']\n"
          ],
          "name": "stdout"
        }
      ]
    },
    {
      "cell_type": "markdown",
      "metadata": {
        "id": "bviD3_-vcJ9V"
      },
      "source": [
        "### **追加③　＋（参考用）**\r\n",
        "\r\n",
        "構文：[リストの名前]**＋**[追加したいリスト] \r\n",
        "\r\n",
        " 例文：c=a+b \r\n"
      ]
    },
    {
      "cell_type": "code",
      "metadata": {
        "colab": {
          "base_uri": "https://localhost:8080/"
        },
        "id": "xf8gXaATcJ9X",
        "outputId": "3fe59ffc-fb22-4482-c96b-9bdedff7785f"
      },
      "source": [
        "a=[1,2,3]#数値データ\r\n",
        "b=['A','B','C']#文字列データ\r\n",
        "c=a+b \r\n",
        "print(c)\r\n",
        "print('#数値と文字列が混在したリストもOKです。')"
      ],
      "execution_count": null,
      "outputs": [
        {
          "output_type": "stream",
          "text": [
            "[1, 2, 3, 'A', 'B', 'C']\n",
            "#数値と文字列が混在したリストもOKです。\n"
          ],
          "name": "stdout"
        }
      ]
    },
    {
      "cell_type": "markdown",
      "metadata": {
        "id": "eUQnlCqeI1LV"
      },
      "source": [
        "### **並べ替え①　sort**　自分自身を並べ替える\r\n",
        "\r\n",
        "構文：[リストの名前]**.sort()**／[リストの名前]**.sort(revere=True)（降順）**\r\n",
        "\r\n",
        "例文：a.sort()／a.sort(reverse=True)\r\n"
      ]
    },
    {
      "cell_type": "code",
      "metadata": {
        "colab": {
          "base_uri": "https://localhost:8080/"
        },
        "id": "9Ew-zxsEI1LY",
        "outputId": "c3dfa9f1-1e38-4539-8961-c65045966ced"
      },
      "source": [
        "a=[2,6,3,4,5]#数値データ\r\n",
        "a.sort()#昇順で並べ替え\r\n",
        "print(a)\r\n",
        "a.sort(reverse=True)#降順で並べ替え\r\n",
        "print(a)"
      ],
      "execution_count": null,
      "outputs": [
        {
          "output_type": "stream",
          "text": [
            "[2, 3, 4, 5, 6]\n",
            "[6, 5, 4, 3, 2]\n"
          ],
          "name": "stdout"
        }
      ]
    },
    {
      "cell_type": "markdown",
      "metadata": {
        "id": "VYv-6GpUglhL"
      },
      "source": [
        "### **並べ替え②　sorted　(参考用)** 並べ替えて新しいリストを作る\r\n",
        "\r\n",
        "構文：**sorted(** [リストの名前] **)**／**sorted(** [リストの名前] **,revere=True)（降順）**\r\n",
        "\r\n",
        "例文：b=sorted(a)／b=sorted(a,reverse=True)\r\n"
      ]
    },
    {
      "cell_type": "code",
      "metadata": {
        "colab": {
          "base_uri": "https://localhost:8080/"
        },
        "id": "MCn-8KYiglhO",
        "outputId": "623bc872-acf1-45cc-e020-a2eb14f52606"
      },
      "source": [
        "a=[2,6,3,4,5]#数値データ\r\n",
        "b=sorted(a)#昇順で並べ替え\r\n",
        "c=sorted(a,reverse=True)#降順で並べ替え\r\n",
        "print(a)\r\n",
        "print(b)\r\n",
        "print(c)"
      ],
      "execution_count": null,
      "outputs": [
        {
          "output_type": "stream",
          "text": [
            "[2, 6, 3, 4, 5]\n",
            "[2, 3, 4, 5, 6]\n",
            "[6, 5, 4, 3, 2]\n"
          ],
          "name": "stdout"
        }
      ]
    },
    {
      "cell_type": "code",
      "metadata": {
        "id": "6WBHYdcSxEQS"
      },
      "source": [
        ""
      ],
      "execution_count": null,
      "outputs": []
    },
    {
      "cell_type": "markdown",
      "metadata": {
        "id": "Wv9dggUpl-2N"
      },
      "source": [
        "## タプル型　()で表します"
      ]
    },
    {
      "cell_type": "markdown",
      "metadata": {
        "id": "L_oSxXFZmQ4N"
      },
      "source": [
        "### **タプル型では、削除、追加、変更はできません**\r\n",
        "\r\n"
      ]
    },
    {
      "cell_type": "markdown",
      "metadata": {
        "id": "V-2E7LDWnRTG"
      },
      "source": [
        "### **valueの呼び出し**"
      ]
    },
    {
      "cell_type": "code",
      "metadata": {
        "colab": {
          "base_uri": "https://localhost:8080/"
        },
        "id": "VEuYPMqXnRTL",
        "outputId": "8906ae44-30b1-449f-d83e-18e00d0d6d08"
      },
      "source": [
        "a=(1,2,3,4,5)#数値データ\r\n",
        "print(a[0])　#インデックス0の値を呼び出します。"
      ],
      "execution_count": null,
      "outputs": [
        {
          "output_type": "stream",
          "text": [
            "1\n"
          ],
          "name": "stdout"
        }
      ]
    },
    {
      "cell_type": "markdown",
      "metadata": {
        "id": "tp1685DAm6dE"
      },
      "source": [
        "### **削除**"
      ]
    },
    {
      "cell_type": "code",
      "metadata": {
        "id": "5UEZeiaEmQ4U",
        "colab": {
          "base_uri": "https://localhost:8080/"
        },
        "outputId": "072c82a3-ce69-4037-a8ea-67aa96b0ee1e"
      },
      "source": [
        "a=(1,2,3,4,5)#数値データ\r\n",
        "pass#del a[0]はできません\r\n",
        "print('a=',a)\r\n",
        "b={a}#aを集合型の入れ子にします\r\n",
        "c=set(a)#aを集合型にします\r\n",
        "print('b=',b)\r\n",
        "print('c=',c)\r\n",
        "pass#bとcは別物です。\r\n",
        "b.clear()\r\n",
        "print('集合型のbはクリア可能です→',b)\r\n"
      ],
      "execution_count": null,
      "outputs": [
        {
          "output_type": "stream",
          "text": [
            "a= (1, 2, 3, 4, 5)\n",
            "b= {(1, 2, 3, 4, 5)}\n",
            "c= {1, 2, 3, 4, 5}\n",
            "集合型のbはクリアされました→ set()\n"
          ],
          "name": "stdout"
        }
      ]
    },
    {
      "cell_type": "markdown",
      "metadata": {
        "id": "AWSpqtR3mQ4U"
      },
      "source": [
        "### **追加　insert**\r\n"
      ]
    },
    {
      "cell_type": "code",
      "metadata": {
        "id": "PgXhAiUlmQ4U"
      },
      "source": [
        "a=(2,3,4,5)#数値データ\r\n",
        "a.insert(1,6)#2番目に6を挿入\r\n",
        "print(a)"
      ],
      "execution_count": null,
      "outputs": []
    },
    {
      "cell_type": "markdown",
      "metadata": {
        "id": "RtfzlAgGmQ4V"
      },
      "source": [
        "### **並べ替え　sort**"
      ]
    },
    {
      "cell_type": "code",
      "metadata": {
        "id": "M59loTwtmQ4W"
      },
      "source": [
        "a=(2,6,3,4,5)#数値データ\r\n",
        "a.sort()#昇順で並べ替え\r\n",
        "print(a)"
      ],
      "execution_count": null,
      "outputs": []
    },
    {
      "cell_type": "markdown",
      "metadata": {
        "id": "tD0FRL5T1-T6"
      },
      "source": [
        "### **入れ子**"
      ]
    },
    {
      "cell_type": "code",
      "metadata": {
        "colab": {
          "base_uri": "https://localhost:8080/"
        },
        "id": "9B7LD9mL2FxJ",
        "outputId": "4652c392-632d-43bf-f976-1561ee4794c3"
      },
      "source": [
        "a=(1,2,3)\r\n",
        "b=('A','B','C')\r\n",
        "c=a,b\r\n",
        "c"
      ],
      "execution_count": null,
      "outputs": [
        {
          "output_type": "execute_result",
          "data": {
            "text/plain": [
              "((1, 2, 3), ('A', 'B', 'C'))"
            ]
          },
          "metadata": {
            "tags": []
          },
          "execution_count": 1
        }
      ]
    },
    {
      "cell_type": "markdown",
      "metadata": {
        "id": "kFLwlHoZ2295"
      },
      "source": [
        "####参考：アンパックして合体"
      ]
    },
    {
      "cell_type": "code",
      "metadata": {
        "colab": {
          "base_uri": "https://localhost:8080/"
        },
        "id": "W0ljDO2A2YaS",
        "outputId": "091f6099-eaed-479a-a193-9f9b038e5b6d"
      },
      "source": [
        "a=(1,2,3)\r\n",
        "b=('A','B','C')\r\n",
        "d=*a,*b#アンパック\r\n",
        "d"
      ],
      "execution_count": null,
      "outputs": [
        {
          "output_type": "execute_result",
          "data": {
            "text/plain": [
              "(1, 2, 3, 'A', 'B', 'C')"
            ]
          },
          "metadata": {
            "tags": []
          },
          "execution_count": 3
        }
      ]
    },
    {
      "cell_type": "markdown",
      "metadata": {
        "id": "EM_avmvW1Gix"
      },
      "source": [
        "### タプル型をリスト型に変換（上書き）すれば変更ができます。\r\n",
        "この時、aはタプル型でなくなってしまいます。\r\n",
        "\r\n",
        "---\r\n",
        "構文：**list(** [タプル型] **)**\r\n",
        "\r\n",
        "例文：**b=list(a)**"
      ]
    },
    {
      "cell_type": "code",
      "metadata": {
        "id": "G1lkD-l11D8M",
        "colab": {
          "base_uri": "https://localhost:8080/"
        },
        "outputId": "fb2b8c76-73f5-43c3-c9c3-aa2d7e446d1d"
      },
      "source": [
        "a=('D','A','T','A')\r\n",
        "b=list(a)#b:aをリスト型に変換\r\n",
        "c=b+['ADD']#要素を追加\r\n",
        "d=sorted(c)#並べ替え\r\n",
        "print(a)\r\n",
        "print(b)\r\n",
        "print(c)\r\n",
        "print(d)"
      ],
      "execution_count": null,
      "outputs": [
        {
          "output_type": "stream",
          "text": [
            "('D', 'A', 'T', 'A')\n",
            "['D', 'A', 'T', 'A']\n",
            "['D', 'A', 'T', 'A', 'ADD']\n",
            "['A', 'A', 'ADD', 'D', 'T']\n"
          ],
          "name": "stdout"
        }
      ]
    },
    {
      "cell_type": "code",
      "metadata": {
        "id": "RJgUtf_sfJj1"
      },
      "source": [
        ""
      ],
      "execution_count": null,
      "outputs": []
    },
    {
      "cell_type": "markdown",
      "metadata": {
        "id": "L6FB6fl8tq32"
      },
      "source": [
        "## 辞書型　{　:　}で表します"
      ]
    },
    {
      "cell_type": "markdown",
      "metadata": {
        "id": "E1qj5qrfVCpl"
      },
      "source": [
        "### **valueの呼び出し**"
      ]
    },
    {
      "cell_type": "code",
      "metadata": {
        "colab": {
          "base_uri": "https://localhost:8080/"
        },
        "id": "EpUW-IroVHfC",
        "outputId": "af548212-e86a-4ca7-ccee-37e425e6ad1e"
      },
      "source": [
        "a={'K1':'A','K2':'2','ｷｰ':'ﾊﾞﾘｭｰ'}\r\n",
        "print(a['K1'])\r\n",
        "print(a['ｷｰ'])"
      ],
      "execution_count": null,
      "outputs": [
        {
          "output_type": "stream",
          "text": [
            "A\n",
            "ﾊﾞﾘｭｰ\n"
          ],
          "name": "stdout"
        }
      ]
    },
    {
      "cell_type": "markdown",
      "metadata": {
        "id": "vyYQdSdItorD"
      },
      "source": [
        "### **削除　del_ （_は空白文字です）**\r\n",
        "\r\n",
        "構文：**del_** [辞書型] **[** key **]** \r\n",
        "\r\n",
        "例文：del_ a['K1']（**key**がK1である**item**を削除します） "
      ]
    },
    {
      "cell_type": "code",
      "metadata": {
        "id": "Y3UtSS8rtorF",
        "colab": {
          "base_uri": "https://localhost:8080/"
        },
        "outputId": "14eda2da-530b-4bf2-97a9-c46309f36390"
      },
      "source": [
        "a={'K1':'A','K2':'2','ｷｰ':'ﾊﾞﾘｭｰ'}\r\n",
        "del a['K1']\r\n",
        "print(a)#print(a)は「aを表示してください」という命令文です\r\n",
        "\r\n"
      ],
      "execution_count": null,
      "outputs": [
        {
          "output_type": "stream",
          "text": [
            "{'K2': 2, 'key': 'value'}\n"
          ],
          "name": "stdout"
        }
      ]
    },
    {
      "cell_type": "markdown",
      "metadata": {
        "id": "1XPpOYzutorG"
      },
      "source": [
        "### **追加　.update()**\r\n",
        "\r\n",
        "構文：[追加される辞書型]**.update(** [追加する辞書型] **)** \r\n",
        "\r\n",
        " 例文：a.update(b) \r\n"
      ]
    },
    {
      "cell_type": "code",
      "metadata": {
        "colab": {
          "base_uri": "https://localhost:8080/"
        },
        "id": "ozKk1Aa0torG",
        "outputId": "e98597b9-b8e6-4696-9027-4399028dc87c"
      },
      "source": [
        "a={'K2':'2','ｷｰ':'ﾊﾞﾘｭｰ'}\r\n",
        "b={'K1':'A'}\r\n",
        "a.update(b)\r\n",
        "print(a)"
      ],
      "execution_count": null,
      "outputs": [
        {
          "output_type": "stream",
          "text": [
            "{'K2': '2', 'ｷｰ': 'ﾊﾞﾘｭｰ', 'K1': 'A'}\n"
          ],
          "name": "stdout"
        }
      ]
    },
    {
      "cell_type": "markdown",
      "metadata": {
        "id": "lcffbMbSX1nr"
      },
      "source": [
        "以下は参考用です。\r\n",
        "\r\n",
        "---\r\n",
        "\r\n"
      ]
    },
    {
      "cell_type": "markdown",
      "metadata": {
        "id": "GElo5BLJtorF"
      },
      "source": [
        ">**追加②**（参考用）\r\n",
        "> 構文：[辞書型] **[** key **]=**[value]\r\n",
        "\r\n",
        "> 例文：a['K1']='A'\r\n",
        "\r\n",
        "\r\n",
        "\r\n"
      ]
    },
    {
      "cell_type": "code",
      "metadata": {
        "id": "boCcuyeMtorF"
      },
      "source": [
        "a={'K2':'2','ｷｰ':'ﾊﾞﾘｭｰ'}\n",
        "a['K1']='A'\n",
        "print(a)"
      ],
      "execution_count": null,
      "outputs": []
    },
    {
      "cell_type": "markdown",
      "metadata": {
        "id": "X7FDWF6dDcdu"
      },
      "source": [
        ">**追加③　|（参考用）**Python 3.9以降で使用可能 Colaboratoryは3.6.9なので使用不可\r\n",
        "\r\n",
        ">構文：[追加される辞書型]**|=(** [追加する辞書型] **)** \r\n",
        "\r\n",
        ">例文：b|=a \r\n"
      ]
    },
    {
      "cell_type": "code",
      "metadata": {
        "id": "7F-qJ64QFG4j"
      },
      "source": [
        "import sys\r\n",
        "print(sys.version)"
      ],
      "execution_count": null,
      "outputs": []
    },
    {
      "cell_type": "code",
      "metadata": {
        "id": "FVPVoyj-Dcdw"
      },
      "source": [
        "a={'K2':'2','key':'value'}\r\n",
        "b={'K1':'A'}\r\n",
        "b |= a#バージョンが対応していないのでエラーになります\r\n",
        "print(b)"
      ],
      "execution_count": null,
      "outputs": []
    },
    {
      "cell_type": "markdown",
      "metadata": {
        "id": "3EF6bZCYIYsW"
      },
      "source": [
        "### **並べ替え　sorted、.items()** 並べ替えて新しいリストを作る\r\n",
        "\r\n",
        "構文：\r\n",
        "\r\n",
        "**sorted(** [辞書型]**.items(),key=lambda x:x [** n(=0または1) **])**\r\n",
        "\r\n",
        "**sorted(** [辞書型] **.items(),key=lambda x:x[[** n(=0または1) **]),revere=True)（降順）**\r\n",
        "\r\n",
        "例文：b=sorted(a.items(),key=lambda x:x[0])\r\n"
      ]
    },
    {
      "cell_type": "code",
      "metadata": {
        "colab": {
          "base_uri": "https://localhost:8080/"
        },
        "id": "O71zUQqrIYsY",
        "outputId": "c2757141-024c-4bda-e814-57a83de36b25"
      },
      "source": [
        "a={'K1':'A','K2':'2','ｷｰ':'ﾊﾞﾘｭｰ'}\r\n",
        "b=sorted(a.items(),key=lambda x:x[0])#keyを基準に並ベ替え\r\n",
        "c=sorted(a.items(),key=lambda x:x[1],reverse=True)#valueを基準に降順で並べ替え\r\n",
        "print(b)\r\n",
        "print(c)\r\n"
      ],
      "execution_count": null,
      "outputs": [
        {
          "output_type": "stream",
          "text": [
            "[('K1', 'A'), ('K2', '2'), ('ｷｰ', 'ﾊﾞﾘｭｰ')]\n",
            "['ｷｰ', 'K2', 'K1']\n"
          ],
          "name": "stdout"
        }
      ]
    },
    {
      "cell_type": "markdown",
      "metadata": {
        "id": "jF5V7Ddxe1iC"
      },
      "source": [
        "## 集合型　{ }で表します"
      ]
    },
    {
      "cell_type": "markdown",
      "metadata": {
        "id": "8P4EIift_DuB"
      },
      "source": [
        "### **valueの呼び出し**"
      ]
    },
    {
      "cell_type": "code",
      "metadata": {
        "id": "71IuGeVO8KJ8",
        "colab": {
          "base_uri": "https://localhost:8080/"
        },
        "outputId": "12d2b9d0-371f-45ae-c50b-19cdd9002d95"
      },
      "source": [
        "a={'red','yellow','blue','green','pink'}\r\n",
        "for n in a:\r\n",
        "    print(n)"
      ],
      "execution_count": null,
      "outputs": [
        {
          "output_type": "stream",
          "text": [
            "yellow\n",
            "red\n",
            "green\n",
            "pink\n",
            "blue\n"
          ],
          "name": "stdout"
        }
      ]
    },
    {
      "cell_type": "markdown",
      "metadata": {
        "id": "wfbiSIPejwgw"
      },
      "source": [
        "### **削除　.discard**\r\n",
        "\r\n",
        "構文： [辞書型] **.discard(** [要素] **)** \r\n",
        "\r\n",
        "例文：a.discard('yellow') "
      ]
    },
    {
      "cell_type": "code",
      "metadata": {
        "colab": {
          "base_uri": "https://localhost:8080/"
        },
        "id": "HLkYOPPPjwg0",
        "outputId": "1a9ca93a-6a10-4018-8dde-4e0170b3f055"
      },
      "source": [
        "a={'red','yellow','blue','green','pink'}\r\n",
        "a.discard('yellow')\r\n",
        "#print(a)#print(a)は「aを表示してください」という命令文です\r\n",
        "b=a\r\n",
        "print(b)\r\n",
        "b.clear()\r\n",
        "print(b)#set()は\"空\"という意味です\r\n",
        "\r\n"
      ],
      "execution_count": null,
      "outputs": [
        {
          "output_type": "stream",
          "text": [
            "{'red', 'green', 'pink', 'blue'}\n",
            "set()\n"
          ],
          "name": "stdout"
        }
      ]
    },
    {
      "cell_type": "markdown",
      "metadata": {
        "id": "HcBhT7fC03EL"
      },
      "source": [
        "### **追加①　.add()**\r\n",
        "\r\n",
        "構文：[追加される集合型]**.add(** [**要素**] **)** \r\n",
        "\r\n",
        " 例文：a.update('black') \r\n"
      ]
    },
    {
      "cell_type": "code",
      "metadata": {
        "colab": {
          "base_uri": "https://localhost:8080/"
        },
        "id": "QQiHkhnS03EO",
        "outputId": "ac3aa378-6429-4d6f-f451-43ff85e2a2a2"
      },
      "source": [
        "a={'pink','red','blue','green'} \r\n",
        "a.add('yellow')\r\n",
        "print(a)"
      ],
      "execution_count": null,
      "outputs": [
        {
          "output_type": "stream",
          "text": [
            "{'pink', 'red', 'yellow', 'blue', 'green'}\n"
          ],
          "name": "stdout"
        }
      ]
    },
    {
      "cell_type": "markdown",
      "metadata": {
        "id": "Y8jIoYKL3XJa"
      },
      "source": [
        "**追加②　(和集合)　|**\r\n",
        "\r\n",
        "構文：[集合型] **|** [集合型] \r\n",
        "\r\n",
        "例文：a | b\r\n"
      ]
    },
    {
      "cell_type": "code",
      "metadata": {
        "colab": {
          "base_uri": "https://localhost:8080/"
        },
        "id": "OmPLhTVu3XJc",
        "outputId": "8415160f-5050-4e5b-931d-998f3b1bac9d"
      },
      "source": [
        "{'pink', 'red', 'yellow', 'blue', 'green'}\r\n",
        "b=set({'black'})\r\n",
        "print(a|b)"
      ],
      "execution_count": null,
      "outputs": [
        {
          "output_type": "stream",
          "text": [
            "{'pink', 'black', 'blue', 'green', 'red', 'yellow'}\n"
          ],
          "name": "stdout"
        }
      ]
    },
    {
      "cell_type": "markdown",
      "metadata": {
        "id": "UKegX4pl6HWP"
      },
      "source": [
        "### **並べ替え　sorted**  並べ替えて新しいリストを作る\r\n",
        "\r\n",
        "構文：**sorted(** [集合型]**)**／**sorted(** [集合型 **],revere=True)（降順）**\r\n",
        "\r\n",
        "例文：b=sorted(a)／c=sorted(a,reverse=True)\r\n"
      ]
    },
    {
      "cell_type": "code",
      "metadata": {
        "colab": {
          "base_uri": "https://localhost:8080/"
        },
        "id": "i8dmHgL96HWQ",
        "outputId": "56c0822b-2fc9-47a0-9751-c45fd00b2412"
      },
      "source": [
        "a={'pink', 'black', 'blue', 'green', 'red', 'yellow'}\r\n",
        "b=sorted(a)#並べ替え\r\n",
        "c=sorted(a,reverse=True)#降順で並べ替え\r\n",
        "\r\n",
        "print(b)\r\n",
        "print(c)"
      ],
      "execution_count": null,
      "outputs": [
        {
          "output_type": "stream",
          "text": [
            "['black', 'blue', 'green', 'pink', 'red', 'yellow']\n",
            "['yellow', 'red', 'pink', 'green', 'blue', 'black']\n"
          ],
          "name": "stdout"
        }
      ]
    },
    {
      "cell_type": "markdown",
      "metadata": {
        "id": "61849b17fOHC"
      },
      "source": [
        "### **変換　set()**\r\n",
        "集合型以外の型でも集合型に変換すると演算することができるようになります"
      ]
    },
    {
      "cell_type": "code",
      "metadata": {
        "colab": {
          "base_uri": "https://localhost:8080/"
        },
        "id": "QBoBrGaIfp8M",
        "outputId": "c4569784-77d0-43ee-9e05-9512ad05690c"
      },
      "source": [
        "list=['a',1,'color','X']#リスト型を定義\r\n",
        "tuple=(3,'b','form','Y')#タプル型を定義\r\n",
        "setL=set(list)#リスト型のオブジェクトを集合型に変換\r\n",
        "setT=set(tuple)#タプル型のオブジェクトを集合型に変換\r\n",
        "print(setL|setT)#setLとsetTの和集合\r\n",
        "print(setL&setT)#setLとsetTの積集合→空集合"
      ],
      "execution_count": null,
      "outputs": [
        {
          "output_type": "stream",
          "text": [
            "{'X', 1, 3, 'Y', 'b', 'a', 'color', 'form'}\n",
            "set()\n"
          ],
          "name": "stdout"
        }
      ]
    },
    {
      "cell_type": "markdown",
      "metadata": {
        "id": "n5AHWcqbZaFD"
      },
      "source": [
        "# 内包表記"
      ]
    },
    {
      "cell_type": "markdown",
      "metadata": {
        "id": "eJYQS_fmjSYQ"
      },
      "source": [
        "## 例1：リスト型"
      ]
    },
    {
      "cell_type": "code",
      "metadata": {
        "colab": {
          "base_uri": "https://localhost:8080/"
        },
        "id": "YOG8EybJU7My",
        "outputId": "4baaee32-0df8-4646-c1f4-18818fbd02fc"
      },
      "source": [
        "a=[i*2 for i in range(5)]\r\n",
        "a"
      ],
      "execution_count": null,
      "outputs": [
        {
          "output_type": "execute_result",
          "data": {
            "text/plain": [
              "[0, 2, 4, 6, 8]"
            ]
          },
          "metadata": {
            "tags": []
          },
          "execution_count": 23
        }
      ]
    },
    {
      "cell_type": "markdown",
      "metadata": {
        "id": "WKP-a2sGjVeY"
      },
      "source": [
        "##例2：集合型"
      ]
    },
    {
      "cell_type": "code",
      "metadata": {
        "colab": {
          "base_uri": "https://localhost:8080/"
        },
        "id": "yxOh4REaYcta",
        "outputId": "7cc3f478-3e14-4461-e74d-64954ae4ae14"
      },
      "source": [
        "b={ i**2 for i in range(0,30,3) if i%2==0 }\r\n",
        "b"
      ],
      "execution_count": null,
      "outputs": [
        {
          "output_type": "execute_result",
          "data": {
            "text/plain": [
              "{0, 36, 144, 324, 576}"
            ]
          },
          "metadata": {
            "tags": []
          },
          "execution_count": 44
        }
      ]
    },
    {
      "cell_type": "markdown",
      "metadata": {
        "id": "OXFz_UrLpe14"
      },
      "source": [
        "##例3：辞書型"
      ]
    },
    {
      "cell_type": "markdown",
      "metadata": {
        "id": "gY0PTzYx5zcH"
      },
      "source": [
        "## zip()を使う場合"
      ]
    },
    {
      "cell_type": "code",
      "metadata": {
        "colab": {
          "base_uri": "https://localhost:8080/"
        },
        "id": "fBap950hj0Hf",
        "outputId": "3c0164d0-2ef0-4519-e888-f14a01df99e2"
      },
      "source": [
        "a=(1,2,3)\r\n",
        "c={i:s for i,s in zip(a,('first','second','third'))}\r\n",
        "c"
      ],
      "execution_count": null,
      "outputs": [
        {
          "output_type": "execute_result",
          "data": {
            "text/plain": [
              "{1: 'first', 2: 'second', 3: 'third'}"
            ]
          },
          "metadata": {
            "tags": []
          },
          "execution_count": 51
        }
      ]
    },
    {
      "cell_type": "markdown",
      "metadata": {
        "id": "5QrD_vCN54Zs"
      },
      "source": [
        "## zip()を使わない場合"
      ]
    },
    {
      "cell_type": "markdown",
      "metadata": {
        "id": "WtScaKT9AyVP"
      },
      "source": [
        "### ◇ keyとkeyの文字数(len)"
      ]
    },
    {
      "cell_type": "code",
      "metadata": {
        "colab": {
          "base_uri": "https://localhost:8080/"
        },
        "id": "Pr-O6GIi589B",
        "outputId": "54290f42-d3a1-4a49-c444-cffaf39b7b5f"
      },
      "source": [
        "\r\n",
        "c={s:len(s) for s in ('Beginner','Intermediate','Advanced')}\r\n",
        "print(c)"
      ],
      "execution_count": null,
      "outputs": [
        {
          "output_type": "stream",
          "text": [
            "{'Beginner': 8, 'Intermediate': 12, 'Advanced': 8}\n"
          ],
          "name": "stdout"
        }
      ]
    },
    {
      "cell_type": "markdown",
      "metadata": {
        "id": "xXAy9Ba14m3o"
      },
      "source": [
        "### ◇for を2回使う"
      ]
    },
    {
      "cell_type": "code",
      "metadata": {
        "colab": {
          "base_uri": "https://localhost:8080/"
        },
        "id": "Y727uPWW4xYo",
        "outputId": "0d2501f2-dc32-4687-c1d3-1f941be97252"
      },
      "source": [
        "#d={l:m for l in range(4)  for m in ('A','B','C','D') if m=='A'}\r\n",
        "d={l:m for l in range(4)  for m in range(5) }\r\n",
        "d"
      ],
      "execution_count": null,
      "outputs": [
        {
          "output_type": "execute_result",
          "data": {
            "text/plain": [
              "{0: 4, 1: 4, 2: 4, 3: 4}"
            ]
          },
          "metadata": {
            "tags": []
          },
          "execution_count": 12
        }
      ]
    },
    {
      "cell_type": "markdown",
      "metadata": {
        "id": "Dsc4ctEj0dcZ"
      },
      "source": [
        "# アンパック代入\r\n",
        "コレクションの中身を反復可能体で使用可能な形に変えてくれます。"
      ]
    },
    {
      "cell_type": "code",
      "metadata": {
        "colab": {
          "base_uri": "https://localhost:8080/"
        },
        "id": "D9VKhBlB0lPx",
        "outputId": "f57dcede-40b6-4cd3-89a9-5aad91d45b53"
      },
      "source": [
        "#list(range(3,6))\r\n",
        "args=[3,6]\r\n",
        "print(range(*args))#アンパックするので下記と同様の意味になる\r\n",
        "#print(range(*[3,6]))"
      ],
      "execution_count": null,
      "outputs": [
        {
          "output_type": "stream",
          "text": [
            "range(3, 6)\n"
          ],
          "name": "stdout"
        }
      ]
    },
    {
      "cell_type": "markdown",
      "metadata": {
        "id": "D4d7pUP83xo1"
      },
      "source": [
        "# 引数リストのアンパック"
      ]
    },
    {
      "cell_type": "code",
      "metadata": {
        "id": "DmiMbPfC3xpB",
        "colab": {
          "base_uri": "https://localhost:8080/"
        },
        "outputId": "b20e2f21-bd18-45d9-e316-771a14d3af1f"
      },
      "source": [
        "a=list(range(3,6))\r\n",
        "print('a=',a)\r\n",
        "args=a\r\n",
        "print('args=',args)\r\n",
        "list(range(*args))#list(range[3,4,5])と同じ意味→3から始まって3まで5飛びのリスト＝[3]"
      ],
      "execution_count": null,
      "outputs": [
        {
          "output_type": "stream",
          "text": [
            "a= [3, 4, 5]\n",
            "args= [3, 4, 5]\n"
          ],
          "name": "stdout"
        },
        {
          "output_type": "execute_result",
          "data": {
            "text/plain": [
              "[3]"
            ]
          },
          "metadata": {
            "tags": []
          },
          "execution_count": 4
        }
      ]
    },
    {
      "cell_type": "code",
      "metadata": {
        "colab": {
          "base_uri": "https://localhost:8080/"
        },
        "id": "2dbVEnnQ0Vm_",
        "outputId": "17346a77-bc23-4abb-e94c-4d0d80aed613"
      },
      "source": [
        "c=(3,6)\r\n",
        "d=range(*c)\r\n",
        "e=*d,#タプルでアンパッキング\r\n",
        "print(e,'#タプル型でアンパッキング')\r\n",
        "print(list(e),'#リスト型でのアンパッキングも可')"
      ],
      "execution_count": null,
      "outputs": [
        {
          "output_type": "stream",
          "text": [
            "(3, 4, 5) #タプル型でアンパッキング\n",
            "[3, 4, 5] #リスト型でのアンパッキングも可\n"
          ],
          "name": "stdout"
        }
      ]
    },
    {
      "cell_type": "markdown",
      "metadata": {
        "id": "vhBMGabKMSWy"
      },
      "source": [
        "# ラムダ式"
      ]
    },
    {
      "cell_type": "markdown",
      "metadata": {
        "id": "eswsI2rs11mW"
      },
      "source": [
        ""
      ]
    },
    {
      "cell_type": "markdown",
      "metadata": {
        "id": "-3GRDq2KMY4l"
      },
      "source": [
        "基本形\r\n",
        "---\r\n",
        "## lambda [引数,引数,引数,…] : [処理]\r\n",
        "\r\n"
      ]
    },
    {
      "cell_type": "code",
      "metadata": {
        "colab": {
          "base_uri": "https://localhost:8080/"
        },
        "id": "QUeJKscHLlqm",
        "outputId": "08ffa5bd-e288-4174-d35c-918f1e438dd1"
      },
      "source": [
        "c=lambda a,b:a+b\r\n",
        "print(c(1,2))\r\n",
        "\r\n",
        "\r\n"
      ],
      "execution_count": null,
      "outputs": [
        {
          "output_type": "stream",
          "text": [
            "3\n"
          ],
          "name": "stdout"
        }
      ]
    },
    {
      "cell_type": "code",
      "metadata": {
        "colab": {
          "base_uri": "https://localhost:8080/"
        },
        "id": "0iZkEBOOKlQC",
        "outputId": "d7c48c32-64b7-4863-e584-b16fc7cfa4b0"
      },
      "source": [
        "a={ i**2 for i in range(0,30,3) if i%2==0 }\r\n",
        "b.clear()\r\n",
        "\r\n",
        "for n in a:\r\n",
        "   b.append(n*2)\r\n",
        "print(b)"
      ],
      "execution_count": null,
      "outputs": [
        {
          "output_type": "stream",
          "text": [
            "[0, 1152, 72, 648, 288]\n"
          ],
          "name": "stdout"
        }
      ]
    },
    {
      "cell_type": "code",
      "metadata": {
        "id": "Y1PhElKz8VnD",
        "colab": {
          "base_uri": "https://localhost:8080/"
        },
        "outputId": "3d5a3e30-6e12-4330-ca3a-2e632a121ffd"
      },
      "source": [
        "a,b = 10,3.5\r\n",
        "a+b"
      ],
      "execution_count": null,
      "outputs": [
        {
          "output_type": "execute_result",
          "data": {
            "text/plain": [
              "13.5"
            ]
          },
          "metadata": {
            "tags": []
          },
          "execution_count": 1
        }
      ]
    },
    {
      "cell_type": "code",
      "metadata": {
        "id": "rB8nmnS5T479"
      },
      "source": [
        "#Comment"
      ],
      "execution_count": null,
      "outputs": []
    },
    {
      "cell_type": "code",
      "metadata": {
        "id": "6hCcrN5xU4R9"
      },
      "source": [
        "a=[4,\"j\",4,'kk']\r\n",
        "aa=[4,\"j\",4,'kk']\r\n",
        "a.extend(aa)"
      ],
      "execution_count": null,
      "outputs": []
    },
    {
      "cell_type": "code",
      "metadata": {
        "colab": {
          "base_uri": "https://localhost:8080/"
        },
        "id": "sLHtZr6Lc-pE",
        "outputId": "dfd34ec8-bca2-43e7-c776-8f6704f3033f"
      },
      "source": [
        "[(x,y) for x in [1,2,3] for y in [2,3,4] if x != y] "
      ],
      "execution_count": null,
      "outputs": [
        {
          "output_type": "execute_result",
          "data": {
            "text/plain": [
              "[(1, 2), (1, 3), (1, 4), (2, 3), (2, 4), (3, 2), (3, 4)]"
            ]
          },
          "metadata": {
            "tags": []
          },
          "execution_count": 5
        }
      ]
    },
    {
      "cell_type": "code",
      "metadata": {
        "colab": {
          "base_uri": "https://localhost:8080/",
          "height": 35
        },
        "id": "fSovxaJHdAmj",
        "outputId": "480dadcd-4c06-4fa4-b290-a3c87109b9ea"
      },
      "source": [
        "word='Python'\r\n",
        "word[0]"
      ],
      "execution_count": null,
      "outputs": [
        {
          "output_type": "execute_result",
          "data": {
            "application/vnd.google.colaboratory.intrinsic+json": {
              "type": "string"
            },
            "text/plain": [
              "'P'"
            ]
          },
          "metadata": {
            "tags": []
          },
          "execution_count": 7
        }
      ]
    },
    {
      "cell_type": "code",
      "metadata": {
        "id": "XkI983eyhZWQ",
        "colab": {
          "base_uri": "https://localhost:8080/",
          "height": 35
        },
        "outputId": "207c8e26-8290-4b34-a2ec-ea488e44ed0f"
      },
      "source": [
        "import sys\r\n",
        "sys.version\r\n",
        "\r\n"
      ],
      "execution_count": null,
      "outputs": [
        {
          "output_type": "execute_result",
          "data": {
            "application/vnd.google.colaboratory.intrinsic+json": {
              "type": "string"
            },
            "text/plain": [
              "'3.6.9 (default, Oct  8 2020, 12:12:24) \\n[GCC 8.4.0]'"
            ]
          },
          "metadata": {
            "tags": []
          },
          "execution_count": 4
        }
      ]
    },
    {
      "cell_type": "code",
      "metadata": {
        "id": "v2q3vX5Nojqs",
        "colab": {
          "base_uri": "https://localhost:8080/"
        },
        "outputId": "8cea42ce-d52d-4a42-9623-2772caeea0b6"
      },
      "source": [
        "#zipテスト\r\n",
        "a=(1,2,3)\r\n",
        "c={ i:s for i,s in zip( a , ('first','second','third')) }\r\n",
        "\r\n",
        "c"
      ],
      "execution_count": null,
      "outputs": [
        {
          "output_type": "execute_result",
          "data": {
            "text/plain": [
              "{1: 'first', 2: 'second', 3: 'third'}"
            ]
          },
          "metadata": {
            "tags": []
          },
          "execution_count": 54
        }
      ]
    },
    {
      "cell_type": "code",
      "metadata": {
        "colab": {
          "base_uri": "https://localhost:8080/"
        },
        "id": "MGmXM_LIlcio",
        "outputId": "edcc8500-2fb2-43ee-d2e3-36babbb6919b"
      },
      "source": [
        "[(x,y) for x in [1,2,3] for y in [2,3,4] if x != y] "
      ],
      "execution_count": null,
      "outputs": [
        {
          "output_type": "execute_result",
          "data": {
            "text/plain": [
              "[(1, 2), (1, 3), (1, 4), (2, 3), (2, 4), (3, 2), (3, 4)]"
            ]
          },
          "metadata": {
            "tags": []
          },
          "execution_count": 42
        }
      ]
    },
    {
      "cell_type": "code",
      "metadata": {
        "id": "TNX8AHpsldvC"
      },
      "source": [
        ""
      ],
      "execution_count": null,
      "outputs": []
    }
  ]
}